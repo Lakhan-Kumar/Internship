{
 "cells": [
  {
   "cell_type": "markdown",
   "id": "8638b36c",
   "metadata": {},
   "source": [
    "\n",
    "PYTHON\n",
    "\n",
    "Q1 to Q8 have only one correct answer. Choose the correct option to answer your question. \n",
    "\n",
    "1. Which of the following operators is used to calculate remainder in a division? \n",
    "A) # B) & \n",
    "C) % D) $ \n",
    "\n",
    "2. In python 2//3 is equal to? \n",
    "A) 0.666 B) 0 \n",
    "C) 1 D) 0.67 \n",
    "\n",
    "3. In python, 6<<2 is equal to? \n",
    "A) 36 B) 10 \n",
    "C) 24 D) 45 \n",
    "\n",
    "4. In python, 6&2 will give which of the following as output? \n",
    "A) 2 B) True \n",
    "C) False D) 0\n",
    " \n",
    "5. In python, 6|2 will give which of the following as output? \n",
    "A) 2 B) 4 \n",
    "C) 0 D) 6 \n",
    "\n",
    "6. What does the finally keyword denotes in python? \n",
    "A) It is used to mark the end of the code \n",
    "B) It encloses the lines of code which will be executed if any error occurs while executing the lines of code in the try block. \n",
    "C) the finally block will be executed no matter if the try block raises an error or not. \n",
    "D) None of the above \n",
    "\n",
    "7. What does raise keyword is used for in python? \n",
    "A) It is used to raise an exception. B) It is used to define lambda function \n",
    "C) it's not a keyword in python. D) None of the above \n",
    "\n",
    "8. Which of the following is a common use case of yield keyword in python? \n",
    "A) in defining an iterator B) while defining a lambda function \n",
    "C) in defining a generator D) in for loop. \n",
    "\n",
    "Q9 and Q10 have multiple correct answers. Choose all the correct options to answer your question. \n",
    "9. Which of the following are the valid variable names? \n",
    "A) _abc B) 1abc \n",
    "C) abc2 D) None of the above \n",
    "\n",
    "10. Which of the following are the keywords in python? \n",
    "A) yield B) raise \n",
    "C) look-in D) all of the above \n",
    "\n",
    "Answers:-\n",
    "\n",
    "1- c\t2- b\t3- c\t4- a\t5- d\t\n",
    "6- c\t7- a\t8- c\t9- a, c\t10- a, b\n",
    "\n",
    "\n"
   ]
  },
  {
   "cell_type": "markdown",
   "id": "3f2e8457",
   "metadata": {},
   "source": [
    "\n",
    "Q11 to Q15 are programming questions. Answer them in Jupyter Notebook.\n",
    "\n",
    "11. Write a python program to find the factorial of a number. \n",
    "12. Write a python program to find whether a number is prime or composite. \n",
    "13. Write a python program to check whether a given string is palindrome or not. \n",
    "14. Write a Python program to get the third side of right-angled triangle from two given sides. \n",
    "15. Write a python program to print the frequency of each of the characters present in a given string. "
   ]
  },
  {
   "cell_type": "markdown",
   "id": "86fb9e89",
   "metadata": {},
   "source": [
    "11. Write a python program to find the factorial of a number."
   ]
  },
  {
   "cell_type": "code",
   "execution_count": 2,
   "id": "0801bdc8",
   "metadata": {},
   "outputs": [
    {
     "name": "stdout",
     "output_type": "stream",
     "text": [
      "Enter a number: 5\n",
      "The factorial of 5 is 120\n"
     ]
    }
   ],
   "source": [
    "def factorial(n):\n",
    "    if n < 0:\n",
    "        return \"Factorial is not defined for negative numbers\"\n",
    "    elif n == 0 or n == 1:\n",
    "        return 1\n",
    "    else:\n",
    "        result = 1\n",
    "        for i in range(2, n + 1):\n",
    "            result *= i\n",
    "        return result\n",
    "\n",
    "# Input from the user\n",
    "number = int(input(\"Enter a number: \"))\n",
    "print(\"The factorial of\", number, \"is\", factorial(number))\n"
   ]
  },
  {
   "cell_type": "markdown",
   "id": "f51dc55f",
   "metadata": {},
   "source": [
    "12. Write a python program to find whether a number is prime or composite."
   ]
  },
  {
   "cell_type": "code",
   "execution_count": 7,
   "id": "2af4749f",
   "metadata": {},
   "outputs": [
    {
     "name": "stdout",
     "output_type": "stream",
     "text": [
      "Enter a number: 51\n",
      "51 is a composite number.\n"
     ]
    }
   ],
   "source": [
    "def is_prime(n):\n",
    "    if n <= 1:\n",
    "        return False\n",
    "    elif n == 2:\n",
    "        return True\n",
    "    elif n % 2 == 0:\n",
    "        return False\n",
    "    else:\n",
    "        for i in range(3, int(n**0.5) + 1, 2):\n",
    "            if n % i == 0:\n",
    "                return False\n",
    "        return True\n",
    "\n",
    "# Input from the user\n",
    "number = int(input(\"Enter a number: \"))\n",
    "\n",
    "if number <= 1:\n",
    "    print(number, \"is neither prime nor composite.\")\n",
    "elif is_prime(number):\n",
    "    print(number, \"is a prime number.\")\n",
    "else:\n",
    "    print(number, \"is a composite number.\")\n"
   ]
  },
  {
   "cell_type": "markdown",
   "id": "31c86bfd",
   "metadata": {},
   "source": [
    "13. Write a python program to check whether a given string is palindrome or not."
   ]
  },
  {
   "cell_type": "code",
   "execution_count": 11,
   "id": "c60a8c40",
   "metadata": {},
   "outputs": [
    {
     "name": "stdout",
     "output_type": "stream",
     "text": [
      "Enter a string: 5\n",
      "\"5\" is a palindrome.\n"
     ]
    }
   ],
   "source": [
    "def is_palindrome(s):\n",
    "    s = s.replace(\" \", \"\").lower()\n",
    "    return s == s[::-1]\n",
    "\n",
    "# Input from the user\n",
    "string = input(\"Enter a string: \")\n",
    "\n",
    "if is_palindrome(string):\n",
    "    print(f'\"{string}\" is a palindrome.')\n",
    "else:\n",
    "    print(f'\"{string}\" is not a palindrome.')\n"
   ]
  },
  {
   "cell_type": "markdown",
   "id": "b4098b37",
   "metadata": {},
   "source": [
    "14. Write a Python program to get the third side of right-angled triangle from two given sides."
   ]
  },
  {
   "cell_type": "code",
   "execution_count": 28,
   "id": "970fcfa9",
   "metadata": {},
   "outputs": [
    {
     "name": "stdout",
     "output_type": "stream",
     "text": [
      "Enter base: 4\n",
      "Enter height: 5\n",
      "Enter angle: 15\n",
      "Hypotenuse = 6.4031242374328485\n"
     ]
    }
   ],
   "source": [
    "import math\n",
    "\n",
    "a = float(input(\"Enter base: \"))\n",
    "b = float(input(\"Enter height: \"))\n",
    "x = float(input(\"Enter angle: \"))\n",
    "\n",
    "c = math.sqrt(a ** 2 + b ** 2)\n",
    "\n",
    "print(\"Hypotenuse =\", c)"
   ]
  },
  {
   "cell_type": "markdown",
   "id": "a25d0388",
   "metadata": {},
   "source": [
    "15. Write a python program to print the frequency of each of the characters present in a given string."
   ]
  },
  {
   "cell_type": "code",
   "execution_count": 23,
   "id": "c19ecb82",
   "metadata": {},
   "outputs": [
    {
     "name": "stdout",
     "output_type": "stream",
     "text": [
      "Enter a string: pythhonn\n",
      "'p': 1\n",
      "'y': 1\n",
      "'t': 1\n",
      "'h': 2\n",
      "'o': 1\n",
      "'n': 2\n"
     ]
    }
   ],
   "source": [
    "def character_frequency(s):\n",
    "    frequency = {}\n",
    "    \n",
    "    for char in s:\n",
    "        if char in frequency:\n",
    "            frequency[char] += 1\n",
    "        else:\n",
    "            frequency[char] = 1\n",
    "    \n",
    "    for char, freq in frequency.items():\n",
    "        print(f\"'{char}': {freq}\")\n",
    "\n",
    "string = input(\"Enter a string: \")\n",
    "\n",
    "character_frequency(string)\n"
   ]
  },
  {
   "cell_type": "code",
   "execution_count": null,
   "id": "6363cdd8",
   "metadata": {},
   "outputs": [],
   "source": []
  },
  {
   "cell_type": "code",
   "execution_count": null,
   "id": "7ef08c60",
   "metadata": {},
   "outputs": [],
   "source": []
  }
 ],
 "metadata": {
  "kernelspec": {
   "display_name": "Python 3 (ipykernel)",
   "language": "python",
   "name": "python3"
  },
  "language_info": {
   "codemirror_mode": {
    "name": "ipython",
    "version": 3
   },
   "file_extension": ".py",
   "mimetype": "text/x-python",
   "name": "python",
   "nbconvert_exporter": "python",
   "pygments_lexer": "ipython3",
   "version": "3.11.5"
  }
 },
 "nbformat": 4,
 "nbformat_minor": 5
}
