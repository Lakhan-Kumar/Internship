{
 "cells": [
  {
   "cell_type": "code",
   "execution_count": 1,
   "id": "4df096ca",
   "metadata": {},
   "outputs": [
    {
     "name": "stdout",
     "output_type": "stream",
     "text": [
      "Requirement already satisfied: selenium in c:\\users\\lakha\\anaconda3\\lib\\site-packages (4.24.0)\n",
      "Requirement already satisfied: urllib3[socks]<3,>=1.26 in c:\\users\\lakha\\anaconda3\\lib\\site-packages (from selenium) (1.26.16)\n",
      "Requirement already satisfied: trio~=0.17 in c:\\users\\lakha\\anaconda3\\lib\\site-packages (from selenium) (0.26.2)\n",
      "Requirement already satisfied: trio-websocket~=0.9 in c:\\users\\lakha\\anaconda3\\lib\\site-packages (from selenium) (0.11.1)\n",
      "Requirement already satisfied: certifi>=2021.10.8 in c:\\users\\lakha\\anaconda3\\lib\\site-packages (from selenium) (2024.7.4)\n",
      "Requirement already satisfied: typing_extensions~=4.9 in c:\\users\\lakha\\anaconda3\\lib\\site-packages (from selenium) (4.12.2)\n",
      "Requirement already satisfied: websocket-client~=1.8 in c:\\users\\lakha\\anaconda3\\lib\\site-packages (from selenium) (1.8.0)\n",
      "Requirement already satisfied: attrs>=23.2.0 in c:\\users\\lakha\\anaconda3\\lib\\site-packages (from trio~=0.17->selenium) (24.2.0)\n",
      "Requirement already satisfied: sortedcontainers in c:\\users\\lakha\\anaconda3\\lib\\site-packages (from trio~=0.17->selenium) (2.4.0)\n",
      "Requirement already satisfied: idna in c:\\users\\lakha\\anaconda3\\lib\\site-packages (from trio~=0.17->selenium) (3.4)\n",
      "Requirement already satisfied: outcome in c:\\users\\lakha\\anaconda3\\lib\\site-packages (from trio~=0.17->selenium) (1.3.0.post0)\n",
      "Requirement already satisfied: sniffio>=1.3.0 in c:\\users\\lakha\\anaconda3\\lib\\site-packages (from trio~=0.17->selenium) (1.3.1)\n",
      "Requirement already satisfied: cffi>=1.14 in c:\\users\\lakha\\anaconda3\\lib\\site-packages (from trio~=0.17->selenium) (1.15.1)\n",
      "Requirement already satisfied: wsproto>=0.14 in c:\\users\\lakha\\anaconda3\\lib\\site-packages (from trio-websocket~=0.9->selenium) (1.2.0)\n",
      "Requirement already satisfied: PySocks!=1.5.7,<2.0,>=1.5.6 in c:\\users\\lakha\\anaconda3\\lib\\site-packages (from urllib3[socks]<3,>=1.26->selenium) (1.7.1)\n",
      "Requirement already satisfied: pycparser in c:\\users\\lakha\\anaconda3\\lib\\site-packages (from cffi>=1.14->trio~=0.17->selenium) (2.21)\n",
      "Requirement already satisfied: h11<1,>=0.9.0 in c:\\users\\lakha\\anaconda3\\lib\\site-packages (from wsproto>=0.14->trio-websocket~=0.9->selenium) (0.14.0)\n"
     ]
    }
   ],
   "source": [
    "!pip install selenium"
   ]
  },
  {
   "cell_type": "code",
   "execution_count": 2,
   "id": "71b8976d",
   "metadata": {},
   "outputs": [],
   "source": [
    "import selenium\n",
    "import pandas as pd\n",
    "from selenium import webdriver\n",
    "import warnings\n",
    "warnings.filterwarnings('ignore')\n",
    "from selenium.webdriver.common.by import By\n",
    "import time"
   ]
  },
  {
   "cell_type": "markdown",
   "id": "f55be1d1",
   "metadata": {},
   "source": [
    "Now , we will download the webdriver for the Web Browser. \n",
    "steps for download are :-\n",
    "    1.Check the version of your browser\n",
    "    2.go to the link- https://chromedriver.chromium.org/downloads\n",
    "    3. Download the webdriver for your version of your browser\n",
    "after the selenium update we don't need to download the webdriver"
   ]
  },
  {
   "cell_type": "code",
   "execution_count": 79,
   "id": "148e56ac",
   "metadata": {},
   "outputs": [],
   "source": [
    "driver = webdriver.Chrome()"
   ]
  },
  {
   "cell_type": "code",
   "execution_count": 80,
   "id": "836a8991",
   "metadata": {},
   "outputs": [],
   "source": [
    "#opening the naukri.com page on automated chrome browser\n",
    "driver.get(\"https://www.naukri.com/\")"
   ]
  },
  {
   "cell_type": "code",
   "execution_count": 81,
   "id": "7df29f7a",
   "metadata": {},
   "outputs": [],
   "source": [
    "#entering designation and Locations as required in the questions.\n",
    "\n",
    "designation=driver.find_element(By.CLASS_NAME,\"suggestor-input \")\n",
    "designation.send_keys('Data Analyst')"
   ]
  },
  {
   "cell_type": "code",
   "execution_count": 82,
   "id": "7290f338",
   "metadata": {},
   "outputs": [],
   "source": [
    "#absolute Xpath\n",
    "location=driver.find_element(By.XPATH,\"/html/body/div[1]/div[6]/div/div/div[5]/div/div/div/div[1]/div/input\")\n",
    "location.send_keys('Bengaluru')"
   ]
  },
  {
   "cell_type": "code",
   "execution_count": 83,
   "id": "7e14660e",
   "metadata": {},
   "outputs": [],
   "source": [
    "search=driver.find_element(By.CLASS_NAME,\"qsbSubmit\")\n",
    "search.click()"
   ]
  },
  {
   "cell_type": "code",
   "execution_count": 84,
   "id": "bf8c142f",
   "metadata": {},
   "outputs": [],
   "source": [
    "job_title=[]\n",
    "job_location=[]\n",
    "company_name=[]\n",
    "experience_required=[]"
   ]
  },
  {
   "cell_type": "code",
   "execution_count": 85,
   "id": "bb2a8b12",
   "metadata": {},
   "outputs": [],
   "source": [
    "#scraping job title from the given page\n",
    "title_tags=driver.find_elements(By.XPATH,'//a[@class=\"title \"]')\n",
    "for i in title_tags:\n",
    "    title=i.text\n",
    "    job_title.append(title)"
   ]
  },
  {
   "cell_type": "code",
   "execution_count": 86,
   "id": "7b33c711",
   "metadata": {},
   "outputs": [],
   "source": [
    "#scraping job locations from the given page\n",
    "location_tags=driver.find_elements(By.XPATH,'//span[@class=\"locWdth\"]')\n",
    "for i in location_tags:\n",
    "    location=i.text\n",
    "    job_location.append(location)"
   ]
  },
  {
   "cell_type": "code",
   "execution_count": 87,
   "id": "c3a38157",
   "metadata": {},
   "outputs": [],
   "source": [
    "#scraping comapny Name from the given page\n",
    "company_tags=driver.find_elements(By.XPATH,'//div[@class=\" row2\"]')\n",
    "for i in company_tags:\n",
    "    company=i.text\n",
    "    company_name.append(company)\n"
   ]
  },
  {
   "cell_type": "code",
   "execution_count": 88,
   "id": "71218f1b",
   "metadata": {},
   "outputs": [],
   "source": [
    "#scraping Experience required from the given page\n",
    "experience_tags=driver.find_elements(By.XPATH,'//span[@class=\"expwdth\"]')\n",
    "for i in experience_tags:\n",
    "    exp=i.text\n",
    "    experience_required.append(exp)"
   ]
  },
  {
   "cell_type": "code",
   "execution_count": 89,
   "id": "a202d3b2",
   "metadata": {},
   "outputs": [
    {
     "name": "stdout",
     "output_type": "stream",
     "text": [
      "20 20 20 20\n"
     ]
    }
   ],
   "source": [
    "print(len(job_title),len(job_location),len(company_name),len(experience_required))"
   ]
  },
  {
   "cell_type": "code",
   "execution_count": 90,
   "id": "2558a3c9",
   "metadata": {},
   "outputs": [
    {
     "data": {
      "text/html": [
       "<div>\n",
       "<style scoped>\n",
       "    .dataframe tbody tr th:only-of-type {\n",
       "        vertical-align: middle;\n",
       "    }\n",
       "\n",
       "    .dataframe tbody tr th {\n",
       "        vertical-align: top;\n",
       "    }\n",
       "\n",
       "    .dataframe thead th {\n",
       "        text-align: right;\n",
       "    }\n",
       "</style>\n",
       "<table border=\"1\" class=\"dataframe\">\n",
       "  <thead>\n",
       "    <tr style=\"text-align: right;\">\n",
       "      <th></th>\n",
       "      <th>Title</th>\n",
       "      <th>Location</th>\n",
       "      <th>Company_Name</th>\n",
       "      <th>Experience</th>\n",
       "    </tr>\n",
       "  </thead>\n",
       "  <tbody>\n",
       "    <tr>\n",
       "      <th>0</th>\n",
       "      <td>Data Analyst _Bengaluru_Fresher/Experienced</td>\n",
       "      <td>Bengaluru</td>\n",
       "      <td>Creative Hr Solutions</td>\n",
       "      <td>0-2 Yrs</td>\n",
       "    </tr>\n",
       "    <tr>\n",
       "      <th>1</th>\n",
       "      <td>Data Analyst</td>\n",
       "      <td>Hybrid - Bengaluru</td>\n",
       "      <td>randstad offshore\\nPosted by Randstad</td>\n",
       "      <td>6-10 Yrs</td>\n",
       "    </tr>\n",
       "    <tr>\n",
       "      <th>2</th>\n",
       "      <td>Data Analyst</td>\n",
       "      <td>Bengaluru, Gurugram</td>\n",
       "      <td>Delhivery\\n3.9\\n5473 Reviews</td>\n",
       "      <td>1-5 Yrs</td>\n",
       "    </tr>\n",
       "    <tr>\n",
       "      <th>3</th>\n",
       "      <td>Scouting For Data Analyst</td>\n",
       "      <td>Bengaluru, Pune, Gurugram</td>\n",
       "      <td>Leading Analytics firm\\nPosted by Metaphor Inf...</td>\n",
       "      <td>5-10 Yrs</td>\n",
       "    </tr>\n",
       "    <tr>\n",
       "      <th>4</th>\n",
       "      <td>Data Analyst</td>\n",
       "      <td>Bengaluru(HSR Layout)</td>\n",
       "      <td>Simply Vyapar Apps\\n3.7\\n298 Reviews</td>\n",
       "      <td>1-4 Yrs</td>\n",
       "    </tr>\n",
       "    <tr>\n",
       "      <th>5</th>\n",
       "      <td>Data Analyst</td>\n",
       "      <td>Hybrid - Bengaluru, Hyderabad, Chennai</td>\n",
       "      <td>Ifood Web Media Technology\\n3.9\\n14 Reviews</td>\n",
       "      <td>5-8 Yrs</td>\n",
       "    </tr>\n",
       "    <tr>\n",
       "      <th>6</th>\n",
       "      <td>Data Analyst (Contractual role) - Chubb - Bang...</td>\n",
       "      <td>Hybrid - Bengaluru</td>\n",
       "      <td>Chubb\\n3.8\\n137 Reviews</td>\n",
       "      <td>3-6 Yrs</td>\n",
       "    </tr>\n",
       "    <tr>\n",
       "      <th>7</th>\n",
       "      <td>Data Analyst</td>\n",
       "      <td>Bengaluru</td>\n",
       "      <td>Eastvantage\\n2.5\\n12 Reviews</td>\n",
       "      <td>3-8 Yrs</td>\n",
       "    </tr>\n",
       "    <tr>\n",
       "      <th>8</th>\n",
       "      <td>Data Analyst</td>\n",
       "      <td>Bengaluru</td>\n",
       "      <td>Anamind Business Consulting Pvt Ltd\\nPosted by...</td>\n",
       "      <td>3-5 Yrs</td>\n",
       "    </tr>\n",
       "    <tr>\n",
       "      <th>9</th>\n",
       "      <td>Data Analyst | FINJO I309</td>\n",
       "      <td>Bengaluru</td>\n",
       "      <td>Omni Recruit</td>\n",
       "      <td>5-10 Yrs</td>\n",
       "    </tr>\n",
       "    <tr>\n",
       "      <th>10</th>\n",
       "      <td>FHIR Data Analyst</td>\n",
       "      <td>Bengaluru</td>\n",
       "      <td>Infosys\\n3.8\\n34514 Reviews</td>\n",
       "      <td>5-10 Yrs</td>\n",
       "    </tr>\n",
       "    <tr>\n",
       "      <th>11</th>\n",
       "      <td>Data Analyst - Experienced &amp; Fresher</td>\n",
       "      <td>Hybrid - Bengaluru(Domlur)</td>\n",
       "      <td>Breakwalls Technologies\\n3.9\\n2 Reviews</td>\n",
       "      <td>0-5 Yrs</td>\n",
       "    </tr>\n",
       "    <tr>\n",
       "      <th>12</th>\n",
       "      <td>Data Eng, Mgmt &amp; Governance Analyst</td>\n",
       "      <td>Bengaluru</td>\n",
       "      <td>Accenture\\n4.0\\n49589 Reviews</td>\n",
       "      <td>3-5 Yrs</td>\n",
       "    </tr>\n",
       "    <tr>\n",
       "      <th>13</th>\n",
       "      <td>Data Analyst</td>\n",
       "      <td>Bengaluru(Yelahanka New Town)</td>\n",
       "      <td>SustainZone Tech Solutions</td>\n",
       "      <td>0-5 Yrs</td>\n",
       "    </tr>\n",
       "    <tr>\n",
       "      <th>14</th>\n",
       "      <td>Data Analyst</td>\n",
       "      <td>Hybrid - Bengaluru</td>\n",
       "      <td>International Data Corporation (IDC)\\n4.1\\n62 ...</td>\n",
       "      <td>5-8 Yrs</td>\n",
       "    </tr>\n",
       "    <tr>\n",
       "      <th>15</th>\n",
       "      <td>Data Analyst</td>\n",
       "      <td>Bengaluru</td>\n",
       "      <td>Eastvantage\\n2.5\\n12 Reviews</td>\n",
       "      <td>3-8 Yrs</td>\n",
       "    </tr>\n",
       "    <tr>\n",
       "      <th>16</th>\n",
       "      <td>Data Analyst/Data reconciliation Expert</td>\n",
       "      <td>Bengaluru, Hyderabad, Mumbai (All Areas)</td>\n",
       "      <td>EY\\n3.6\\n9204 Reviews</td>\n",
       "      <td>3-8 Yrs</td>\n",
       "    </tr>\n",
       "    <tr>\n",
       "      <th>17</th>\n",
       "      <td>Data Analyst with Microstrategy</td>\n",
       "      <td>Hybrid - Bengaluru, Chennai</td>\n",
       "      <td>Optimum Solution\\nPosted by Optimum Solutions</td>\n",
       "      <td>2-7 Yrs</td>\n",
       "    </tr>\n",
       "    <tr>\n",
       "      <th>18</th>\n",
       "      <td>Data Analyst</td>\n",
       "      <td>Remote</td>\n",
       "      <td>Ascendion\\nPosted by Ascendion Engineering</td>\n",
       "      <td>8-13 Yrs</td>\n",
       "    </tr>\n",
       "    <tr>\n",
       "      <th>19</th>\n",
       "      <td>Data Analyst</td>\n",
       "      <td>Hybrid - Bengaluru</td>\n",
       "      <td>Ness\\n3.4\\n536 Reviews</td>\n",
       "      <td>4-8 Yrs</td>\n",
       "    </tr>\n",
       "  </tbody>\n",
       "</table>\n",
       "</div>"
      ],
      "text/plain": [
       "                                                Title  \\\n",
       "0         Data Analyst _Bengaluru_Fresher/Experienced   \n",
       "1                                        Data Analyst   \n",
       "2                                        Data Analyst   \n",
       "3                           Scouting For Data Analyst   \n",
       "4                                        Data Analyst   \n",
       "5                                        Data Analyst   \n",
       "6   Data Analyst (Contractual role) - Chubb - Bang...   \n",
       "7                                        Data Analyst   \n",
       "8                                        Data Analyst   \n",
       "9                           Data Analyst | FINJO I309   \n",
       "10                                  FHIR Data Analyst   \n",
       "11               Data Analyst - Experienced & Fresher   \n",
       "12                Data Eng, Mgmt & Governance Analyst   \n",
       "13                                       Data Analyst   \n",
       "14                                       Data Analyst   \n",
       "15                                       Data Analyst   \n",
       "16            Data Analyst/Data reconciliation Expert   \n",
       "17                   Data Analyst with Microstrategy    \n",
       "18                                       Data Analyst   \n",
       "19                                       Data Analyst   \n",
       "\n",
       "                                    Location  \\\n",
       "0                                  Bengaluru   \n",
       "1                         Hybrid - Bengaluru   \n",
       "2                        Bengaluru, Gurugram   \n",
       "3                  Bengaluru, Pune, Gurugram   \n",
       "4                      Bengaluru(HSR Layout)   \n",
       "5     Hybrid - Bengaluru, Hyderabad, Chennai   \n",
       "6                         Hybrid - Bengaluru   \n",
       "7                                  Bengaluru   \n",
       "8                                  Bengaluru   \n",
       "9                                  Bengaluru   \n",
       "10                                 Bengaluru   \n",
       "11                Hybrid - Bengaluru(Domlur)   \n",
       "12                                 Bengaluru   \n",
       "13             Bengaluru(Yelahanka New Town)   \n",
       "14                        Hybrid - Bengaluru   \n",
       "15                                 Bengaluru   \n",
       "16  Bengaluru, Hyderabad, Mumbai (All Areas)   \n",
       "17               Hybrid - Bengaluru, Chennai   \n",
       "18                                    Remote   \n",
       "19                        Hybrid - Bengaluru   \n",
       "\n",
       "                                         Company_Name Experience  \n",
       "0                               Creative Hr Solutions    0-2 Yrs  \n",
       "1               randstad offshore\\nPosted by Randstad   6-10 Yrs  \n",
       "2                        Delhivery\\n3.9\\n5473 Reviews    1-5 Yrs  \n",
       "3   Leading Analytics firm\\nPosted by Metaphor Inf...   5-10 Yrs  \n",
       "4                Simply Vyapar Apps\\n3.7\\n298 Reviews    1-4 Yrs  \n",
       "5         Ifood Web Media Technology\\n3.9\\n14 Reviews    5-8 Yrs  \n",
       "6                             Chubb\\n3.8\\n137 Reviews    3-6 Yrs  \n",
       "7                        Eastvantage\\n2.5\\n12 Reviews    3-8 Yrs  \n",
       "8   Anamind Business Consulting Pvt Ltd\\nPosted by...    3-5 Yrs  \n",
       "9                                        Omni Recruit   5-10 Yrs  \n",
       "10                        Infosys\\n3.8\\n34514 Reviews   5-10 Yrs  \n",
       "11            Breakwalls Technologies\\n3.9\\n2 Reviews    0-5 Yrs  \n",
       "12                      Accenture\\n4.0\\n49589 Reviews    3-5 Yrs  \n",
       "13                         SustainZone Tech Solutions    0-5 Yrs  \n",
       "14  International Data Corporation (IDC)\\n4.1\\n62 ...    5-8 Yrs  \n",
       "15                       Eastvantage\\n2.5\\n12 Reviews    3-8 Yrs  \n",
       "16                              EY\\n3.6\\n9204 Reviews    3-8 Yrs  \n",
       "17      Optimum Solution\\nPosted by Optimum Solutions    2-7 Yrs  \n",
       "18         Ascendion\\nPosted by Ascendion Engineering   8-13 Yrs  \n",
       "19                             Ness\\n3.4\\n536 Reviews    4-8 Yrs  "
      ]
     },
     "execution_count": 90,
     "metadata": {},
     "output_type": "execute_result"
    }
   ],
   "source": [
    "import pandas as pd\n",
    "df=pd.DataFrame({'Title':job_title,'Location':job_location,'Company_Name':company_name,'Experience':experience_required})\n",
    "df"
   ]
  },
  {
   "cell_type": "code",
   "execution_count": null,
   "id": "da1e0800",
   "metadata": {},
   "outputs": [],
   "source": []
  },
  {
   "cell_type": "code",
   "execution_count": null,
   "id": "79f4cf49",
   "metadata": {},
   "outputs": [],
   "source": []
  },
  {
   "cell_type": "code",
   "execution_count": 91,
   "id": "f3cd8dab",
   "metadata": {},
   "outputs": [
    {
     "data": {
      "text/plain": [
       "[<selenium.webdriver.remote.webelement.WebElement (session=\"b5bd9c2edd6ed529658b72dd96c21f01\", element=\"f.0A54CDA67ADED658524A86696BE27B42.d.A7190B6C3160EB8FB61CFB9FA57014AA.e.147\")>,\n",
       " <selenium.webdriver.remote.webelement.WebElement (session=\"b5bd9c2edd6ed529658b72dd96c21f01\", element=\"f.0A54CDA67ADED658524A86696BE27B42.d.A7190B6C3160EB8FB61CFB9FA57014AA.e.148\")>,\n",
       " <selenium.webdriver.remote.webelement.WebElement (session=\"b5bd9c2edd6ed529658b72dd96c21f01\", element=\"f.0A54CDA67ADED658524A86696BE27B42.d.A7190B6C3160EB8FB61CFB9FA57014AA.e.145\")>,\n",
       " <selenium.webdriver.remote.webelement.WebElement (session=\"b5bd9c2edd6ed529658b72dd96c21f01\", element=\"f.0A54CDA67ADED658524A86696BE27B42.d.A7190B6C3160EB8FB61CFB9FA57014AA.e.149\")>]"
      ]
     },
     "execution_count": 91,
     "metadata": {},
     "output_type": "execute_result"
    }
   ],
   "source": [
    "#to fetch the url\n",
    "url=driver.find_elements(By.XPATH,'//a[@class=\"title \"]')\n",
    "url[0:4]"
   ]
  },
  {
   "cell_type": "code",
   "execution_count": 92,
   "id": "89a882af",
   "metadata": {
    "scrolled": true
   },
   "outputs": [
    {
     "name": "stdout",
     "output_type": "stream",
     "text": [
      "https://www.naukri.com/job-listings-data-analyst-bengaluru-fresher-experienced-creative-hr-solutions-bengaluru-0-to-2-years-110924011540\n",
      "https://www.naukri.com/job-listings-data-analyst-randstad-bengaluru-6-to-10-years-030924009803\n",
      "https://www.naukri.com/job-listings-data-analyst-delhivery-gurugram-bengaluru-1-to-5-years-130924016115\n",
      "https://www.naukri.com/job-listings-scouting-for-data-analyst-metaphor-infotech-pune-gurugram-bengaluru-5-to-10-years-110924017227\n"
     ]
    }
   ],
   "source": [
    "for i in url[0:4]:   #lets provide range to print only top 4 data\n",
    "    print(i.get_attribute('href'))"
   ]
  },
  {
   "cell_type": "code",
   "execution_count": 93,
   "id": "604d3286",
   "metadata": {},
   "outputs": [],
   "source": [
    "job_titles=[]"
   ]
  },
  {
   "cell_type": "code",
   "execution_count": 95,
   "id": "5aa901df",
   "metadata": {},
   "outputs": [
    {
     "ename": "ElementClickInterceptedException",
     "evalue": "Message: element click intercepted: Element <a class=\"title \" title=\"...\" href=\"https://www.naukri.com/job-listings-data-analyst-bengaluru-fresher-experienced-creative-hr-solutions-bengaluru-0-to-2-years-110924011540\" target=\"_blank\" rel=\"noopener noreferrer\">Data Analyst _Bengaluru_Fresher/Experienced</a> is not clickable at point (338, 11). Other element would receive the click: <div class=\"nI-gNb-header__wrapper\">...</div>\n  (Session info: chrome=128.0.6613.138)\nStacktrace:\n\tGetHandleVerifier [0x00007FF7DDE89412+29090]\n\t(No symbol) [0x00007FF7DDDFE239]\n\t(No symbol) [0x00007FF7DDCBB1DA]\n\t(No symbol) [0x00007FF7DDD16C1E]\n\t(No symbol) [0x00007FF7DDD14692]\n\t(No symbol) [0x00007FF7DDD11BAB]\n\t(No symbol) [0x00007FF7DDD10DC5]\n\t(No symbol) [0x00007FF7DDD02D81]\n\t(No symbol) [0x00007FF7DDD366EA]\n\t(No symbol) [0x00007FF7DDD026C6]\n\t(No symbol) [0x00007FF7DDD36900]\n\t(No symbol) [0x00007FF7DDD565A2]\n\t(No symbol) [0x00007FF7DDD36493]\n\t(No symbol) [0x00007FF7DDD009D1]\n\t(No symbol) [0x00007FF7DDD01B31]\n\tGetHandleVerifier [0x00007FF7DE1A871D+3302573]\n\tGetHandleVerifier [0x00007FF7DE1F4243+3612627]\n\tGetHandleVerifier [0x00007FF7DE1EA417+3572135]\n\tGetHandleVerifier [0x00007FF7DDF45EB6+801862]\n\t(No symbol) [0x00007FF7DDE0945F]\n\t(No symbol) [0x00007FF7DDE04FB4]\n\t(No symbol) [0x00007FF7DDE05140]\n\t(No symbol) [0x00007FF7DDDF461F]\n\tBaseThreadInitThunk [0x00007FFBA0327344+20]\n\tRtlUserThreadStart [0x00007FFBA0BFCC91+33]\n",
     "output_type": "error",
     "traceback": [
      "\u001b[1;31m---------------------------------------------------------------------------\u001b[0m",
      "\u001b[1;31mElementClickInterceptedException\u001b[0m          Traceback (most recent call last)",
      "Cell \u001b[1;32mIn[95], line 8\u001b[0m\n\u001b[0;32m      6\u001b[0m job_titles\u001b[38;5;241m.\u001b[39mappend(i\u001b[38;5;241m.\u001b[39mtext)\n\u001b[0;32m      7\u001b[0m next_button\u001b[38;5;241m=\u001b[39mdriver\u001b[38;5;241m.\u001b[39mfind_element(By\u001b[38;5;241m.\u001b[39mXPATH,\u001b[38;5;124m'\u001b[39m\u001b[38;5;124m/html/body/div/div/main/div[1]/div[2]/div[2]/div/div[1]/div/div[1]/a\u001b[39m\u001b[38;5;124m'\u001b[39m) \n\u001b[1;32m----> 8\u001b[0m next_button\u001b[38;5;241m.\u001b[39mclick()\n\u001b[0;32m      9\u001b[0m time\u001b[38;5;241m.\u001b[39msleep(\u001b[38;5;241m3\u001b[39m)\n",
      "File \u001b[1;32m~\\anaconda3\\Lib\\site-packages\\selenium\\webdriver\\remote\\webelement.py:94\u001b[0m, in \u001b[0;36mWebElement.click\u001b[1;34m(self)\u001b[0m\n\u001b[0;32m     92\u001b[0m \u001b[38;5;28;01mdef\u001b[39;00m \u001b[38;5;21mclick\u001b[39m(\u001b[38;5;28mself\u001b[39m) \u001b[38;5;241m-\u001b[39m\u001b[38;5;241m>\u001b[39m \u001b[38;5;28;01mNone\u001b[39;00m:\n\u001b[0;32m     93\u001b[0m \u001b[38;5;250m    \u001b[39m\u001b[38;5;124;03m\"\"\"Clicks the element.\"\"\"\u001b[39;00m\n\u001b[1;32m---> 94\u001b[0m     \u001b[38;5;28mself\u001b[39m\u001b[38;5;241m.\u001b[39m_execute(Command\u001b[38;5;241m.\u001b[39mCLICK_ELEMENT)\n",
      "File \u001b[1;32m~\\anaconda3\\Lib\\site-packages\\selenium\\webdriver\\remote\\webelement.py:395\u001b[0m, in \u001b[0;36mWebElement._execute\u001b[1;34m(self, command, params)\u001b[0m\n\u001b[0;32m    393\u001b[0m     params \u001b[38;5;241m=\u001b[39m {}\n\u001b[0;32m    394\u001b[0m params[\u001b[38;5;124m\"\u001b[39m\u001b[38;5;124mid\u001b[39m\u001b[38;5;124m\"\u001b[39m] \u001b[38;5;241m=\u001b[39m \u001b[38;5;28mself\u001b[39m\u001b[38;5;241m.\u001b[39m_id\n\u001b[1;32m--> 395\u001b[0m \u001b[38;5;28;01mreturn\u001b[39;00m \u001b[38;5;28mself\u001b[39m\u001b[38;5;241m.\u001b[39m_parent\u001b[38;5;241m.\u001b[39mexecute(command, params)\n",
      "File \u001b[1;32m~\\anaconda3\\Lib\\site-packages\\selenium\\webdriver\\remote\\webdriver.py:354\u001b[0m, in \u001b[0;36mWebDriver.execute\u001b[1;34m(self, driver_command, params)\u001b[0m\n\u001b[0;32m    352\u001b[0m response \u001b[38;5;241m=\u001b[39m \u001b[38;5;28mself\u001b[39m\u001b[38;5;241m.\u001b[39mcommand_executor\u001b[38;5;241m.\u001b[39mexecute(driver_command, params)\n\u001b[0;32m    353\u001b[0m \u001b[38;5;28;01mif\u001b[39;00m response:\n\u001b[1;32m--> 354\u001b[0m     \u001b[38;5;28mself\u001b[39m\u001b[38;5;241m.\u001b[39merror_handler\u001b[38;5;241m.\u001b[39mcheck_response(response)\n\u001b[0;32m    355\u001b[0m     response[\u001b[38;5;124m\"\u001b[39m\u001b[38;5;124mvalue\u001b[39m\u001b[38;5;124m\"\u001b[39m] \u001b[38;5;241m=\u001b[39m \u001b[38;5;28mself\u001b[39m\u001b[38;5;241m.\u001b[39m_unwrap_value(response\u001b[38;5;241m.\u001b[39mget(\u001b[38;5;124m\"\u001b[39m\u001b[38;5;124mvalue\u001b[39m\u001b[38;5;124m\"\u001b[39m, \u001b[38;5;28;01mNone\u001b[39;00m))\n\u001b[0;32m    356\u001b[0m     \u001b[38;5;28;01mreturn\u001b[39;00m response\n",
      "File \u001b[1;32m~\\anaconda3\\Lib\\site-packages\\selenium\\webdriver\\remote\\errorhandler.py:229\u001b[0m, in \u001b[0;36mErrorHandler.check_response\u001b[1;34m(self, response)\u001b[0m\n\u001b[0;32m    227\u001b[0m         alert_text \u001b[38;5;241m=\u001b[39m value[\u001b[38;5;124m\"\u001b[39m\u001b[38;5;124malert\u001b[39m\u001b[38;5;124m\"\u001b[39m]\u001b[38;5;241m.\u001b[39mget(\u001b[38;5;124m\"\u001b[39m\u001b[38;5;124mtext\u001b[39m\u001b[38;5;124m\"\u001b[39m)\n\u001b[0;32m    228\u001b[0m     \u001b[38;5;28;01mraise\u001b[39;00m exception_class(message, screen, stacktrace, alert_text)  \u001b[38;5;66;03m# type: ignore[call-arg]  # mypy is not smart enough here\u001b[39;00m\n\u001b[1;32m--> 229\u001b[0m \u001b[38;5;28;01mraise\u001b[39;00m exception_class(message, screen, stacktrace)\n",
      "\u001b[1;31mElementClickInterceptedException\u001b[0m: Message: element click intercepted: Element <a class=\"title \" title=\"...\" href=\"https://www.naukri.com/job-listings-data-analyst-bengaluru-fresher-experienced-creative-hr-solutions-bengaluru-0-to-2-years-110924011540\" target=\"_blank\" rel=\"noopener noreferrer\">Data Analyst _Bengaluru_Fresher/Experienced</a> is not clickable at point (338, 11). Other element would receive the click: <div class=\"nI-gNb-header__wrapper\">...</div>\n  (Session info: chrome=128.0.6613.138)\nStacktrace:\n\tGetHandleVerifier [0x00007FF7DDE89412+29090]\n\t(No symbol) [0x00007FF7DDDFE239]\n\t(No symbol) [0x00007FF7DDCBB1DA]\n\t(No symbol) [0x00007FF7DDD16C1E]\n\t(No symbol) [0x00007FF7DDD14692]\n\t(No symbol) [0x00007FF7DDD11BAB]\n\t(No symbol) [0x00007FF7DDD10DC5]\n\t(No symbol) [0x00007FF7DDD02D81]\n\t(No symbol) [0x00007FF7DDD366EA]\n\t(No symbol) [0x00007FF7DDD026C6]\n\t(No symbol) [0x00007FF7DDD36900]\n\t(No symbol) [0x00007FF7DDD565A2]\n\t(No symbol) [0x00007FF7DDD36493]\n\t(No symbol) [0x00007FF7DDD009D1]\n\t(No symbol) [0x00007FF7DDD01B31]\n\tGetHandleVerifier [0x00007FF7DE1A871D+3302573]\n\tGetHandleVerifier [0x00007FF7DE1F4243+3612627]\n\tGetHandleVerifier [0x00007FF7DE1EA417+3572135]\n\tGetHandleVerifier [0x00007FF7DDF45EB6+801862]\n\t(No symbol) [0x00007FF7DDE0945F]\n\t(No symbol) [0x00007FF7DDE04FB4]\n\t(No symbol) [0x00007FF7DDE05140]\n\t(No symbol) [0x00007FF7DDDF461F]\n\tBaseThreadInitThunk [0x00007FFBA0327344+20]\n\tRtlUserThreadStart [0x00007FFBA0BFCC91+33]\n"
     ]
    }
   ],
   "source": [
    "start=0\n",
    "end=3\n",
    "for page in range(start,end):\n",
    "    titles=driver.find_elements(By.XPATH,'//a[@class=\"title \"]')\n",
    "    for i in titles:\n",
    "        job_titles.append(i.text)\n",
    "        next_button=driver.find_element(By.XPATH,'/html/body/div/div/main/div[1]/div[2]/div[2]/div/div[1]/div/div[1]/a') \n",
    "        next_button.click()\n",
    "        time.sleep(3)"
   ]
  },
  {
   "cell_type": "code",
   "execution_count": 96,
   "id": "7d3cb882",
   "metadata": {},
   "outputs": [
    {
     "data": {
      "text/plain": [
       "49"
      ]
     },
     "execution_count": 96,
     "metadata": {},
     "output_type": "execute_result"
    }
   ],
   "source": [
    "len(job_titles)"
   ]
  },
  {
   "cell_type": "code",
   "execution_count": 97,
   "id": "586980dc",
   "metadata": {},
   "outputs": [
    {
     "data": {
      "text/plain": [
       "['Data Analyst _Bengaluru_Fresher/Experienced',\n",
       " 'Data Analyst _Bengaluru_Fresher/Experienced',\n",
       " 'Data Analyst',\n",
       " 'Data Analyst',\n",
       " 'Scouting For Data Analyst',\n",
       " 'Data Analyst',\n",
       " 'Data Analyst',\n",
       " 'Data Analyst (Contractual role) - Chubb - Bangalore',\n",
       " 'Data Analyst',\n",
       " 'Data Analyst',\n",
       " 'Data Analyst | FINJO I309',\n",
       " 'FHIR Data Analyst',\n",
       " 'Data Analyst - Experienced & Fresher',\n",
       " 'Data Eng, Mgmt & Governance Analyst',\n",
       " 'Data Analyst',\n",
       " 'Data Analyst',\n",
       " 'Data Analyst',\n",
       " 'Data Analyst/Data reconciliation Expert',\n",
       " 'Data Analyst with Microstrategy ',\n",
       " 'Data Analyst',\n",
       " 'Data Analyst',\n",
       " 'Data Analyst _Bengaluru_Fresher/Experienced',\n",
       " 'Data Analyst',\n",
       " 'Data Analyst',\n",
       " 'Scouting For Data Analyst',\n",
       " 'Data Analyst',\n",
       " 'Data Analyst',\n",
       " 'Data Analyst (Contractual role) - Chubb - Bangalore',\n",
       " 'Data Analyst',\n",
       " 'Data Analyst',\n",
       " 'Data Analyst | FINJO I309',\n",
       " 'FHIR Data Analyst',\n",
       " 'Data Analyst - Experienced & Fresher',\n",
       " 'Data Eng, Mgmt & Governance Analyst',\n",
       " 'Data Analyst',\n",
       " 'Data Analyst',\n",
       " 'Data Analyst',\n",
       " 'Data Analyst/Data reconciliation Expert',\n",
       " 'Data Analyst with Microstrategy ',\n",
       " 'Data Analyst',\n",
       " 'Data Analyst',\n",
       " 'Data Analyst _Bengaluru_Fresher/Experienced',\n",
       " 'Data Analyst',\n",
       " 'Data Analyst',\n",
       " 'Scouting For Data Analyst',\n",
       " 'Data Analyst',\n",
       " 'Data Analyst',\n",
       " 'Data Analyst (Contractual role) - Chubb - Bangalore',\n",
       " 'Data Analyst']"
      ]
     },
     "execution_count": 97,
     "metadata": {},
     "output_type": "execute_result"
    }
   ],
   "source": [
    "job_titles"
   ]
  },
  {
   "cell_type": "code",
   "execution_count": null,
   "id": "0d672cd2",
   "metadata": {},
   "outputs": [],
   "source": []
  },
  {
   "cell_type": "code",
   "execution_count": null,
   "id": "f89f2578",
   "metadata": {},
   "outputs": [],
   "source": []
  }
 ],
 "metadata": {
  "kernelspec": {
   "display_name": "Python 3 (ipykernel)",
   "language": "python",
   "name": "python3"
  },
  "language_info": {
   "codemirror_mode": {
    "name": "ipython",
    "version": 3
   },
   "file_extension": ".py",
   "mimetype": "text/x-python",
   "name": "python",
   "nbconvert_exporter": "python",
   "pygments_lexer": "ipython3",
   "version": "3.11.5"
  }
 },
 "nbformat": 4,
 "nbformat_minor": 5
}
