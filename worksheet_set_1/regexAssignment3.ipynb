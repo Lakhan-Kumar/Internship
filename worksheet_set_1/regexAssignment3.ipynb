{
 "cells": [
  {
   "cell_type": "markdown",
   "id": "1003ee03",
   "metadata": {},
   "source": [
    "# Regular Expressions"
   ]
  },
  {
   "cell_type": "markdown",
   "id": "1c65ec20",
   "metadata": {},
   "source": [
    "Question 1-Write a Python program to replace all occurrences of a space, comma, or dot with a colon.\n",
    "Sample Text-'Python Exercises, PHP exercises.'\n",
    "Expected Output:Python:Exercises::PHP:exercises:"
   ]
  },
  {
   "cell_type": "code",
   "execution_count": 1,
   "id": "a470d600",
   "metadata": {},
   "outputs": [
    {
     "name": "stdout",
     "output_type": "stream",
     "text": [
      "'Python:Exercises::PHP:exercises:'\n"
     ]
    }
   ],
   "source": [
    "import re\n",
    "def replace_with_colon(text):\n",
    "    return re.sub(r'[ ,.]', ':', text)\n",
    "\n",
    "target_string = \"'Python Exercises, PHP exercises.'\"\n",
    "result = replace_with_colon(target_string)\n",
    "print(result)\n"
   ]
  },
  {
   "cell_type": "markdown",
   "id": "dd3c0bf9",
   "metadata": {},
   "source": [
    "Question 2-Create a dataframe using the dictionary below and remove everything (commas (,), !, XXXX, ;, etc.) from the columns except words. \n",
    "Dictionary-{'SUMMARY' : ['hello, world!', 'XXXXX test', '123four, five:; six...']}\n",
    "Expected output- 0 hello world 1 test 2 four five six"
   ]
  },
  {
   "cell_type": "code",
   "execution_count": 2,
   "id": "83497b65",
   "metadata": {},
   "outputs": [
    {
     "name": "stdout",
     "output_type": "stream",
     "text": [
      "         SUMMARY\n",
      "0    hello world\n",
      "1     XXXXX test\n",
      "2  four five six\n"
     ]
    }
   ],
   "source": [
    "import pandas as pd\n",
    "import re\n",
    "\n",
    "dictionary = {'SUMMARY': ['hello, world!', 'XXXXX test', '123four, five:; six...']}\n",
    "df = pd.DataFrame(dictionary)\n",
    "def remove_non_words(text):\n",
    "    return re.sub(r'[^a-zA-Z\\s]', '', text)\n",
    "df['SUMMARY'] = df['SUMMARY'].apply(remove_non_words)\n",
    "print(df)\n"
   ]
  },
  {
   "cell_type": "markdown",
   "id": "80a84efc",
   "metadata": {},
   "source": [
    "Question 3- Create a function in python to find all words that are at least 4 characters long in a string.\n",
    "The use of the re.compile() method is mandatory."
   ]
  },
  {
   "cell_type": "code",
   "execution_count": 4,
   "id": "30eaf4e0",
   "metadata": {},
   "outputs": [
    {
     "name": "stdout",
     "output_type": "stream",
     "text": [
      "['Banana', 'only', 'very', 'delicious', 'pieces', 'fruit', 'they', 'also', 'super', 'healthy', 'Eating', 'bananas', 'wonder', 'your', 'health', 'banana']\n"
     ]
    }
   ],
   "source": [
    "import re\n",
    "\n",
    "def find_long_words(text):\n",
    "    pattern = re.compile(r'\\b\\w{4,}\\b')\n",
    "    long_words = pattern.findall(text)\n",
    "    return long_words\n",
    "input_text = \"'Banana are not only very delicious pieces of fruit','they are also super healthy.','Eating 24 bananas a day can do wonder for your health banana'\"\n",
    "result = find_long_words(input_text)\n",
    "print(result)\n"
   ]
  },
  {
   "cell_type": "markdown",
   "id": "4cd97878",
   "metadata": {},
   "source": [
    "Question 4-Create a function in python to find all three, four, and five character words in a string. \n",
    "The use of the re.compile() method is mandatory."
   ]
  },
  {
   "cell_type": "code",
   "execution_count": 7,
   "id": "435f6f1c",
   "metadata": {},
   "outputs": [
    {
     "name": "stdout",
     "output_type": "stream",
     "text": [
      "['are', 'not', 'only', 'very', 'fruit', 'day', 'can', 'for', 'your']\n"
     ]
    }
   ],
   "source": [
    "import re\n",
    "\n",
    "def find_length_words(text):\n",
    "    pattern = re.compile(r'\\b\\w{3,5}\\b')\n",
    "    specific_length_words = pattern.findall(text)\n",
    "    return specific_length_words\n",
    "input_text = \"'Banana are not only very delicious pieces of fruit','Eating 24 bananas a day can do wonder for your health banana'\"\n",
    "result = find_length_words(input_text)\n",
    "print(result)\n"
   ]
  },
  {
   "cell_type": "markdown",
   "id": "8c4d959d",
   "metadata": {},
   "source": [
    "Question 5- Create a function in Python to remove the parenthesis in a list of strings.\n",
    "The use of the re.compile() method is mandatory.\n",
    "Sample Text:[\"example (.com)\", \"hr@fliprobo (.com)\", \"github (.com)\", \"Hello (Data Science World)\", \"Data (Scientist)\"]\n",
    "Expected Output:\n",
    "example.com\n",
    "hr@fliprobo.com\n",
    "github.com\n",
    "Hello Data Science World\n",
    "Data Scientist"
   ]
  },
  {
   "cell_type": "code",
   "execution_count": 19,
   "id": "25ff0885",
   "metadata": {},
   "outputs": [
    {
     "name": "stdout",
     "output_type": "stream",
     "text": [
      "example.com\n",
      "hr@fliprobo.com\n",
      "github.com\n",
      "HelloData Science World\n",
      "DataScientist\n"
     ]
    }
   ],
   "source": [
    "import re\n",
    "\n",
    "def remove_join_text(text_list):\n",
    "    pattern = re.compile(r'\\s*\\((.*?)\\)\\s*')   \n",
    "    def clean_text(text):\n",
    "        return pattern.sub(r'\\1', text).replace(\" \", \"\")\n",
    "    clean_list = [clean_text(text) if \".com\" in text else pattern.sub(r'\\1', text) for text in text_list]    \n",
    "    return clean_list\n",
    "sample_text = [\n",
    "    \"example (.com)\", \n",
    "    \"hr@fliprobo (.com)\", \n",
    "    \"github (.com)\", \n",
    "    \"Hello (Data Science World)\", \n",
    "    \"Data (Scientist)\"\n",
    "]\n",
    "\n",
    "result = remove_join_text(sample_text)\n",
    "for line in result:\n",
    "    print(line)\n"
   ]
  },
  {
   "cell_type": "markdown",
   "id": "4495adc9",
   "metadata": {},
   "source": [
    "Question 6- Write a python program to remove the parenthesis area from the text stored in the text file using Regular Expression.\n",
    "\n",
    "Sample Text:[\"example (.com)\", \"hr@fliprobo (.com)\", \"github (.com)\", \"Hello (Data Science World)\", \"Data (Scientist)\"]\n",
    "    \n",
    "Expected Output:[\"example\", \"hr@fliprobo\", \"github\", \"Hello\", \"Data\"]\n",
    "    \n",
    "Note- Store given sample text in the text file and then to remove the parenthesis area from the text."
   ]
  },
  {
   "cell_type": "code",
   "execution_count": 20,
   "id": "2bf9294e",
   "metadata": {},
   "outputs": [
    {
     "name": "stdout",
     "output_type": "stream",
     "text": [
      "['example', 'hr@fliprobo', 'github', 'Hello', 'Data']\n"
     ]
    }
   ],
   "source": [
    "import re\n",
    "\n",
    "def remove_parentheses(text_list):\n",
    "    pattern = re.compile(r'\\s*\\(.*?\\)\\s*')    \n",
    "    clean_list = [pattern.sub('', text).strip() for text in text_list]\n",
    "    return clean_list\n",
    "sample_text = [\n",
    "    \"example (.com)\", \n",
    "    \"hr@fliprobo (.com)\", \n",
    "    \"github (.com)\", \n",
    "    \"Hello (Data Science World)\", \n",
    "    \"Data (Scientist)\"\n",
    "]\n",
    "result = remove_parentheses(sample_text)\n",
    "print(result)"
   ]
  },
  {
   "cell_type": "markdown",
   "id": "d5ad655b",
   "metadata": {},
   "source": [
    "Question 7-Write a regular expression in Python to split a string into uppercase letters.\n",
    "Sample text: “ImportanceOfRegularExpressionsInPython”\n",
    "Expected Output:[‘Importance’, ‘Of’, ‘Regular’, ‘Expression’, ‘In’, ‘Python’]"
   ]
  },
  {
   "cell_type": "code",
   "execution_count": 22,
   "id": "557a9717",
   "metadata": {},
   "outputs": [
    {
     "name": "stdout",
     "output_type": "stream",
     "text": [
      "['Importance', 'Of', 'Regular', 'Expressions', 'In', 'Python']\n"
     ]
    }
   ],
   "source": [
    "import re\n",
    "\n",
    "def split_uppercase(text):\n",
    "    pattern = re.compile(r'[A-Z][a-z]*')\n",
    "    words = pattern.findall(text)\n",
    "    return words\n",
    "sample_text = \"ImportanceOfRegularExpressionsInPython\"\n",
    "result = split_uppercase(sample_text)\n",
    "print(result)\n"
   ]
  },
  {
   "cell_type": "markdown",
   "id": "e1a590f8",
   "metadata": {},
   "source": [
    "Question 8- Create a function in python to insert spaces between words starting with numbers.\n",
    "Sample Text: “RegularExpression1IsAn2ImportantTopic3InPython\"\n",
    "Expected Output: RegularExpression 1IsAn 2ImportantTopic 3InPython"
   ]
  },
  {
   "cell_type": "code",
   "execution_count": 25,
   "id": "534a262b",
   "metadata": {},
   "outputs": [
    {
     "name": "stdout",
     "output_type": "stream",
     "text": [
      "RegularExpression 1IsAn 2ImportantTopic 3InPython\n"
     ]
    }
   ],
   "source": [
    "import re\n",
    "\n",
    "def insert_spaces(text):\n",
    "    pattern = re.compile(r'(\\d)')  \n",
    "    result = pattern.sub(r' \\1', text)\n",
    "    return result\n",
    "sample_text = \"RegularExpression1IsAn2ImportantTopic3InPython\"\n",
    "result = insert_spaces(sample_text)\n",
    "print(result)\n"
   ]
  },
  {
   "cell_type": "markdown",
   "id": "235f645c",
   "metadata": {},
   "source": [
    "Question 9- Create a function in python to insert spaces between words starting with capital letters or with numbers.\n",
    "Sample Text: “RegularExpression1IsAn2ImportantTopic3InPython\"\n",
    "Expected Output:RegularExpression 1 IsAn 2 ImportantTopic 3 InPython"
   ]
  },
  {
   "cell_type": "code",
   "execution_count": 29,
   "id": "4dd77466",
   "metadata": {},
   "outputs": [
    {
     "name": "stdout",
     "output_type": "stream",
     "text": [
      "Regular Expression 1 Is An 2 Important Topic 3 In Python\n"
     ]
    }
   ],
   "source": [
    "import re\n",
    "\n",
    "def insert_spaces(text):\n",
    "    pattern = re.compile(r'(?<=[a-zA-Z0-9])(?=[A-Z0-9])')\n",
    "    result = pattern.sub(' ', text)\n",
    "    return result\n",
    "sample_text = \"RegularExpression1IsAn2ImportantTopic3InPython\"\n",
    "result = insert_spaces(sample_text)\n",
    "print(result)\n"
   ]
  },
  {
   "cell_type": "markdown",
   "id": "62cfd6ff",
   "metadata": {},
   "source": [
    "Question 10-Use the github link below to read the data and create a dataframe. \n",
    "After creating the dataframe extract the first 6 letters of each country and store in the dataframe under a new column called \n",
    "first_five_letters.\n",
    "Github Link- https://raw.githubusercontent.com/dsrscientist/DSData/master/happiness_score_dataset.csv\n"
   ]
  },
  {
   "cell_type": "code",
   "execution_count": 32,
   "id": "8c36c3a4",
   "metadata": {},
   "outputs": [
    {
     "name": "stdout",
     "output_type": "stream",
     "text": [
      "Original DataFrame:\n",
      "       Country          Region  Happiness Rank  Happiness Score  \\\n",
      "0  Switzerland  Western Europe               1            7.587   \n",
      "1      Iceland  Western Europe               2            7.561   \n",
      "2      Denmark  Western Europe               3            7.527   \n",
      "3       Norway  Western Europe               4            7.522   \n",
      "4       Canada   North America               5            7.427   \n",
      "\n",
      "   Standard Error  Economy (GDP per Capita)   Family  \\\n",
      "0         0.03411                   1.39651  1.34951   \n",
      "1         0.04884                   1.30232  1.40223   \n",
      "2         0.03328                   1.32548  1.36058   \n",
      "3         0.03880                   1.45900  1.33095   \n",
      "4         0.03553                   1.32629  1.32261   \n",
      "\n",
      "   Health (Life Expectancy)  Freedom  Trust (Government Corruption)  \\\n",
      "0                   0.94143  0.66557                        0.41978   \n",
      "1                   0.94784  0.62877                        0.14145   \n",
      "2                   0.87464  0.64938                        0.48357   \n",
      "3                   0.88521  0.66973                        0.36503   \n",
      "4                   0.90563  0.63297                        0.32957   \n",
      "\n",
      "   Generosity  Dystopia Residual  \n",
      "0     0.29678            2.51738  \n",
      "1     0.43630            2.70201  \n",
      "2     0.34139            2.49204  \n",
      "3     0.34699            2.46531  \n",
      "4     0.45811            2.45176  \n",
      "\n",
      "Updated DataFrame:\n",
      "       Country          Region  Happiness Rank  Happiness Score  \\\n",
      "0  Switzerland  Western Europe               1            7.587   \n",
      "1      Iceland  Western Europe               2            7.561   \n",
      "2      Denmark  Western Europe               3            7.527   \n",
      "3       Norway  Western Europe               4            7.522   \n",
      "4       Canada   North America               5            7.427   \n",
      "\n",
      "   Standard Error  Economy (GDP per Capita)   Family  \\\n",
      "0         0.03411                   1.39651  1.34951   \n",
      "1         0.04884                   1.30232  1.40223   \n",
      "2         0.03328                   1.32548  1.36058   \n",
      "3         0.03880                   1.45900  1.33095   \n",
      "4         0.03553                   1.32629  1.32261   \n",
      "\n",
      "   Health (Life Expectancy)  Freedom  Trust (Government Corruption)  \\\n",
      "0                   0.94143  0.66557                        0.41978   \n",
      "1                   0.94784  0.62877                        0.14145   \n",
      "2                   0.87464  0.64938                        0.48357   \n",
      "3                   0.88521  0.66973                        0.36503   \n",
      "4                   0.90563  0.63297                        0.32957   \n",
      "\n",
      "   Generosity  Dystopia Residual first_six_letters  \n",
      "0     0.29678            2.51738            Switze  \n",
      "1     0.43630            2.70201            Icelan  \n",
      "2     0.34139            2.49204            Denmar  \n",
      "3     0.34699            2.46531            Norway  \n",
      "4     0.45811            2.45176            Canada  \n"
     ]
    }
   ],
   "source": [
    "import pandas as pd\n",
    "\n",
    "url = \"https://raw.githubusercontent.com/dsrscientist/DSData/master/happiness_score_dataset.csv\"\n",
    "df = pd.read_csv(url)\n",
    "print(\"Original DataFrame:\")\n",
    "print(df.head())\n",
    "df['first_six_letters'] = df['Country'].apply(lambda x: x[:6])\n",
    "print(\"\\nUpdated DataFrame:\")\n",
    "print(df.head())\n"
   ]
  },
  {
   "cell_type": "markdown",
   "id": "4bba4993",
   "metadata": {},
   "source": [
    "Question 11- Write a Python program to match a string that contains only upper and lowercase letters, numbers, and underscores.\n"
   ]
  },
  {
   "cell_type": "code",
   "execution_count": 33,
   "id": "3c62007c",
   "metadata": {},
   "outputs": [
    {
     "name": "stdout",
     "output_type": "stream",
     "text": [
      "'Valid_String123' is valid: True\n",
      "'Invalid@String' is valid: False\n",
      "'Another_Valid_123' is valid: True\n",
      "'NoSpacesAllowed' is valid: True\n",
      "'Invalid String' is valid: False\n"
     ]
    }
   ],
   "source": [
    "import re\n",
    "\n",
    "def is_valid_string(text):\n",
    "    pattern = re.compile(r'^[A-Za-z0-9_]+$')\n",
    "    return bool(pattern.match(text))\n",
    "target_strings = [\n",
    "    \"Valid_String123\", \n",
    "    \"Invalid@String\",   \n",
    "    \"Another_Valid_123\",  \n",
    "    \"NoSpacesAllowed\", \n",
    "    \"Invalid String\"  ]\n",
    "for s in target_strings:\n",
    "    result = is_valid_string(s)\n",
    "    print(f\"'{s}' is valid: {result}\")\n"
   ]
  },
  {
   "cell_type": "markdown",
   "id": "e9055ae9",
   "metadata": {},
   "source": [
    "Question 12- Write a Python program where a string will start with a specific number. "
   ]
  },
  {
   "cell_type": "code",
   "execution_count": 35,
   "id": "8893146c",
   "metadata": {},
   "outputs": [
    {
     "name": "stdout",
     "output_type": "stream",
     "text": [
      "'123abc' starts with 123: True\n",
      "'456def' starts with 123: False\n",
      "'abc123' starts with 123: False\n",
      "'567mno' starts with 123: False\n"
     ]
    }
   ],
   "source": [
    "import re\n",
    "\n",
    "def starts_with_number(text, number):\n",
    "    pattern = re.compile(f'^{number}')\n",
    "    return bool(pattern.match(text))\n",
    "target_strings = [\n",
    "    \"123abc\",    \n",
    "    \"456def\",        \n",
    "    \"abc123\",     \n",
    "    \"567mno\"      \n",
    "]\n",
    "specific_number = '123'\n",
    "for s in target_strings:\n",
    "    result = starts_with_number(s, specific_number)\n",
    "    print(f\"'{s}' starts with {specific_number}: {result}\")\n"
   ]
  },
  {
   "cell_type": "markdown",
   "id": "a3072246",
   "metadata": {},
   "source": [
    "Question 13- Write a Python program to remove leading zeros from an IP address"
   ]
  },
  {
   "cell_type": "code",
   "execution_count": 38,
   "id": "6307a775",
   "metadata": {},
   "outputs": [
    {
     "name": "stdout",
     "output_type": "stream",
     "text": [
      "Original ip: 192.168.01.001 -> Clean ip: 192.168.1.1\n",
      "Original ip: 10.0.0.10 -> Clean ip: 10.0.0.10\n",
      "Original ip: 172.16.0002.03 -> Clean ip: 172.16.2.3\n",
      "Original ip: 255.255.255.255 -> Clean ip: 255.255.255.255\n",
      "Original ip: 0.0.0.0 -> Clean ip: 0.0.0.0\n"
     ]
    }
   ],
   "source": [
    "import re\n",
    "\n",
    "def remove_zeros(ip_address):\n",
    "    pattern = re.compile(r'\\b0+(\\d+)\\b')\n",
    "    clean_ip = pattern.sub(r'\\1', ip_address)  \n",
    "    return clean_ip\n",
    "ip_addresses = [\n",
    "    \"192.168.01.001\",    \n",
    "    \"10.0.0.10\",        \n",
    "    \"172.16.0002.03\",    \n",
    "    \"255.255.255.255\",   \n",
    "    \"0.0.0.0\" ]\n",
    "for ip in ip_addresses:\n",
    "    clean_ip = remove_zeros(ip)\n",
    "    print(f\"Original ip: {ip} -> Clean ip: {clean_ip}\")\n"
   ]
  },
  {
   "cell_type": "markdown",
   "id": "f4c461ea",
   "metadata": {},
   "source": [
    "\n",
    "Question 14- Write a regular expression in python to match a date string in the form of Month name followed by \n",
    "day number and year stored in a text file.\n",
    "Sample text :  'On August 15th 1947 that India was declared independent from British colonialism,and the reins of control \n",
    "    were handed over to the leaders of the Country’.\n",
    "Expected Output-August 15th 1947\n",
    "Note- Store given sample text in the text file and then extract the date string asked format.\n"
   ]
  },
  {
   "cell_type": "code",
   "execution_count": 39,
   "id": "88cec232",
   "metadata": {},
   "outputs": [
    {
     "name": "stdout",
     "output_type": "stream",
     "text": [
      "No date found\n"
     ]
    }
   ],
   "source": [
    "import re\n",
    "\n",
    "def extract_date_string(file_path):\n",
    "    with open(file_path, 'r') as file:\n",
    "        text = file.read()\n",
    "    pattern = re.compile(r'\\b[A-Za-z]+ \\d{1,2}(?:st|nd|rd|th)? \\d{4}\\b')\n",
    "    match = pattern.search(text)\n",
    "    if match:\n",
    "        return match.group(0)\n",
    "    else:\n",
    "        return \"No date found\"\n",
    "file_path = 'sample_text.txt'\n",
    "result = extract_date_string(file_path)\n",
    "print(result)"
   ]
  },
  {
   "cell_type": "markdown",
   "id": "8ceba301",
   "metadata": {},
   "source": [
    "Question 15- Write a Python program to search some literals strings in a string. \n",
    "Sample text : 'The quick brown fox jumps over the lazy dog.'\n",
    "Searched words : 'fox', 'dog', 'horse'"
   ]
  },
  {
   "cell_type": "code",
   "execution_count": 40,
   "id": "51b1eac0",
   "metadata": {},
   "outputs": [
    {
     "name": "stdout",
     "output_type": "stream",
     "text": [
      "'fox' found in text: True\n",
      "'dog' found in text: True\n",
      "'horse' found in text: False\n"
     ]
    }
   ],
   "source": [
    "import re\n",
    "\n",
    "def literals(text, search_words):\n",
    "    results = {}\n",
    "    for word in search_words:\n",
    "        pattern = re.compile(re.escape(word), re.IGNORECASE)\n",
    "        found = bool(pattern.search(text))\n",
    "        results[word] = found\n",
    "    return results\n",
    "sample_text = 'The quick brown fox jumps over the lazy dog.'\n",
    "search_words = ['fox', 'dog', 'horse']\n",
    "results = literals(sample_text, search_words)\n",
    "for word, found in results.items():\n",
    "    print(f\"'{word}' found in text: {found}\")\n"
   ]
  },
  {
   "cell_type": "markdown",
   "id": "1d98d568",
   "metadata": {},
   "source": [
    "Question 16- Write a Python program to search a literals string in a string and also find the location within the \n",
    "original string where the pattern occurs\n",
    "Sample text : 'The quick brown fox jumps over the lazy dog.'\n",
    "Searched words : 'fox'"
   ]
  },
  {
   "cell_type": "code",
   "execution_count": 41,
   "id": "fbb00823",
   "metadata": {},
   "outputs": [
    {
     "name": "stdout",
     "output_type": "stream",
     "text": [
      "'fox' found at position: 16-19\n"
     ]
    }
   ],
   "source": [
    "import re\n",
    "\n",
    "def search_literal(text, search_word):\n",
    "    pattern = re.compile(re.escape(search_word), re.IGNORECASE)    \n",
    "    matches = pattern.finditer(text)  \n",
    "    results = []\n",
    "    for match in matches:\n",
    "        results.append((match.group(), match.start(), match.end()))\n",
    "    return results\n",
    "sample_text = 'The quick brown fox jumps over the lazy dog.'\n",
    "search_word = 'fox'\n",
    "results = search_literal(sample_text, search_word)\n",
    "for word, start, end in results:\n",
    "    print(f\"'{word}' found at position: {start}-{end}\")\n"
   ]
  },
  {
   "cell_type": "markdown",
   "id": "cfa24d13",
   "metadata": {},
   "source": [
    "Question 17- Write a Python program to find the substrings within a string.\n",
    "Sample text : 'Python exercises, PHP exercises, C# exercises'\n",
    "Pattern : 'exercises'."
   ]
  },
  {
   "cell_type": "code",
   "execution_count": 42,
   "id": "2efbd97b",
   "metadata": {},
   "outputs": [
    {
     "name": "stdout",
     "output_type": "stream",
     "text": [
      "'exercises' found at position: 7-16\n",
      "'exercises' found at position: 22-31\n",
      "'exercises' found at position: 36-45\n"
     ]
    }
   ],
   "source": [
    "import re\n",
    "\n",
    "def find_substrings(text, pattern):\n",
    "    compiled_pattern = re.compile(re.escape(pattern), re.IGNORECASE)    \n",
    "    matches = compiled_pattern.finditer(text)\n",
    "    results = []\n",
    "    for match in matches:\n",
    "        results.append((match.group(), match.start(), match.end()))    \n",
    "    return results\n",
    "sample_text = 'Python exercises, PHP exercises, C# exercises'\n",
    "pattern = 'exercises'\n",
    "results = find_substrings(sample_text, pattern)\n",
    "for substring, start, end in results:\n",
    "    print(f\"'{substring}' found at position: {start}-{end}\")\n"
   ]
  },
  {
   "cell_type": "markdown",
   "id": "08e4af87",
   "metadata": {},
   "source": [
    "Question 18- Write a Python program to find the occurrence and position of the substrings within a string."
   ]
  },
  {
   "cell_type": "code",
   "execution_count": 43,
   "id": "095b6bf1",
   "metadata": {},
   "outputs": [
    {
     "name": "stdout",
     "output_type": "stream",
     "text": [
      "'exercises' found at position: 7-16\n",
      "'exercises' found at position: 22-31\n",
      "'exercises' found at position: 36-45\n"
     ]
    }
   ],
   "source": [
    "import re\n",
    "\n",
    "def find_occurrences_and_positions(text, substring):\n",
    "    pattern = re.compile(re.escape(substring), re.IGNORECASE)    \n",
    "    matches = pattern.finditer(text) \n",
    "    results = []\n",
    "    for match in matches:\n",
    "        results.append((match.group(), match.start(), match.end()))    \n",
    "    return results\n",
    "sample_text = 'Python exercises, PHP exercises, C# exercises'\n",
    "substring = 'exercises'\n",
    "results = find_occurrences_and_positions(sample_text, substring)\n",
    "for match, start, end in results:\n",
    "    print(f\"'{match}' found at position: {start}-{end}\")\n"
   ]
  },
  {
   "cell_type": "markdown",
   "id": "9228d124",
   "metadata": {},
   "source": [
    "Question 19- Write a Python program to convert a date of yyyy-mm-dd format to dd-mm-yyyy format."
   ]
  },
  {
   "cell_type": "code",
   "execution_count": 44,
   "id": "34381cd1",
   "metadata": {},
   "outputs": [
    {
     "name": "stdout",
     "output_type": "stream",
     "text": [
      "Original date: 2024-08-24\n",
      "Converted date: 24-08-2024\n"
     ]
    }
   ],
   "source": [
    "from datetime import datetime\n",
    "\n",
    "def convert_date_format(date_str):\n",
    "    date_obj = datetime.strptime(date_str, '%Y-%m-%d')    \n",
    "    formatted_date = date_obj.strftime('%d-%m-%Y')\n",
    "    return formatted_date\n",
    "date_input = '2024-08-24'\n",
    "converted_date = convert_date_format(date_input)\n",
    "print(f\"Original date: {date_input}\")\n",
    "print(f\"Converted date: {converted_date}\")\n"
   ]
  },
  {
   "cell_type": "markdown",
   "id": "a22e1620",
   "metadata": {},
   "source": [
    "Question 20- Create a function in python to find all decimal numbers with a precision of 1 or 2 in a string.\n",
    "The use of the re.compile() method is mandatory.\n",
    "Sample Text:\"01.12 0132.123 2.31875 145.8 3.01 27.25 0.25\"\n",
    "Expected Output:['01.12', '145.8', '3.01', '27.25', '0.25']"
   ]
  },
  {
   "cell_type": "code",
   "execution_count": 45,
   "id": "be585afb",
   "metadata": {},
   "outputs": [
    {
     "name": "stdout",
     "output_type": "stream",
     "text": [
      "['01.12', '145.8', '3.01', '27.25', '0.25']\n"
     ]
    }
   ],
   "source": [
    "import re\n",
    "\n",
    "def find_decimal_numbers(text):\n",
    "    pattern = re.compile(r'\\b\\d+\\.\\d{1,2}\\b')    \n",
    "    matches = pattern.findall(text)\n",
    "    return matches\n",
    "sample_text = \"01.12 0132.123 2.31875 145.8 3.01 27.25 0.25\"\n",
    "result = find_decimal_numbers(sample_text)\n",
    "print(result)\n"
   ]
  },
  {
   "cell_type": "markdown",
   "id": "fc167da8",
   "metadata": {},
   "source": [
    "Question 21- Write a Python program to separate and print the numbers and their position of a given string."
   ]
  },
  {
   "cell_type": "code",
   "execution_count": 46,
   "id": "427e83bb",
   "metadata": {},
   "outputs": [
    {
     "name": "stdout",
     "output_type": "stream",
     "text": [
      "Number: '123' found at position: 16-19\n",
      "Number: '45.67' found at position: 21-26\n",
      "Number: '890' found at position: 32-35\n",
      "Number: '3.14159' found at position: 60-67\n"
     ]
    }
   ],
   "source": [
    "import re\n",
    "\n",
    "def find_numbers_and_positions(text):\n",
    "    pattern = re.compile(r'\\b\\d+\\.?\\d*\\b')    \n",
    "    matches = pattern.finditer(text)\n",
    "    results = []\n",
    "    for match in matches:\n",
    "        results.append((match.group(), match.start(), match.end()))    \n",
    "    return results\n",
    "sample_text = 'The numbers are 123, 45.67, and 890. Additionally, there is 3.14159 in the text.'\n",
    "results = find_numbers_and_positions(sample_text)\n",
    "for number, start, end in results:\n",
    "    print(f\"Number: '{number}' found at position: {start}-{end}\")\n"
   ]
  },
  {
   "cell_type": "markdown",
   "id": "62683b69",
   "metadata": {},
   "source": [
    "Question 22- Write a regular expression in python program to extract maximum/largest numeric value from a string.\n",
    "Sample Text: 'My marks in each semester are: 947, 896, 926, 524, 734, 950, 642'\n",
    "Expected Output: 950"
   ]
  },
  {
   "cell_type": "code",
   "execution_count": 48,
   "id": "1bcdaf35",
   "metadata": {},
   "outputs": [
    {
     "name": "stdout",
     "output_type": "stream",
     "text": [
      "The maximum numeric value is: 2926\n"
     ]
    }
   ],
   "source": [
    "import re\n",
    "\n",
    "def extract_max_numeric_value(text):\n",
    "    pattern = re.compile(r'\\b\\d+\\b')\n",
    "    matches = pattern.findall(text)\n",
    "    numbers = [int(match) for match in matches]\n",
    "    if numbers:\n",
    "        max_value = max(numbers)\n",
    "    else:\n",
    "        max_value = None\n",
    "    return max_value\n",
    "sample_text = 'My marks in each semester are: 1947, 896, 2926,1030 1524, 734, 950, 642'\n",
    "max_value = extract_max_numeric_value(sample_text)\n",
    "print(f\"The maximum numeric value is: {max_value}\")"
   ]
  },
  {
   "cell_type": "code",
   "execution_count": null,
   "id": "6046e217",
   "metadata": {},
   "outputs": [],
   "source": [
    "Question 23- Create a function in python to insert spaces between words starting with capital letters.\n",
    "Sample Text: “RegularExpressionIsAnImportantTopicInPython\"\n",
    "Expected Output:Regular Expression Is An Important Topic In Python"
   ]
  },
  {
   "cell_type": "code",
   "execution_count": 49,
   "id": "ba048518",
   "metadata": {},
   "outputs": [
    {
     "name": "stdout",
     "output_type": "stream",
     "text": [
      "Regular Expression Is An Important Topic In Python\n"
     ]
    }
   ],
   "source": [
    "import re\n",
    "\n",
    "def insert_spaces(text):\n",
    "    pattern = re.compile(r'(?<!^)(?<!\\s)([A-Z])')    \n",
    "    spaced_text = pattern.sub(r' \\1', text)\n",
    "    return spaced_text\n",
    "sample_text = \"RegularExpressionIsAnImportantTopicInPython\"\n",
    "result = insert_spaces(sample_text)\n",
    "print(result)\n"
   ]
  },
  {
   "cell_type": "markdown",
   "id": "b9985677",
   "metadata": {},
   "source": [
    "Question 24-Python regex to find sequences of one upper case letter followed by lower case letters"
   ]
  },
  {
   "cell_type": "code",
   "execution_count": 53,
   "id": "047216e6",
   "metadata": {},
   "outputs": [
    {
     "name": "stdout",
     "output_type": "stream",
     "text": [
      "['Here', 'Apple', 'Orange', 'Grapes', 'Zebra']\n"
     ]
    }
   ],
   "source": [
    "import re\n",
    "\n",
    "def find_uppercase(text):\n",
    "    pattern = re.compile(r'[A-Z][a-z]+')    \n",
    "    matches = pattern.findall(text)\n",
    "    return matches\n",
    "sample_text = 'Here are some examples: Apple banana Orange, Grapes, and Zebra.'\n",
    "result = find_uppercase(sample_text)\n",
    "print(result)"
   ]
  },
  {
   "cell_type": "markdown",
   "id": "4391225a",
   "metadata": {},
   "source": [
    "Question 25-Write a Python program to remove continuous duplicate words from Sentence using Regular Expression.\n",
    "Sample Text:\"Hello hello world world\"\n",
    "Expected Output: Hello hello world"
   ]
  },
  {
   "cell_type": "code",
   "execution_count": 54,
   "id": "fc93f6d2",
   "metadata": {},
   "outputs": [
    {
     "name": "stdout",
     "output_type": "stream",
     "text": [
      "Hello world\n"
     ]
    }
   ],
   "source": [
    "import re\n",
    "\n",
    "def duplicates(sentence):\n",
    "    pattern = re.compile(r'\\b(\\w+)\\b(?:\\s+\\1)+', re.IGNORECASE)\n",
    "    clean_sentence = pattern.sub(r'\\1', sentence)\n",
    "    return clean_sentence\n",
    "sample_text = \"Hello hello world world\"\n",
    "result = duplicates(sample_text)\n",
    "print(result)"
   ]
  },
  {
   "cell_type": "markdown",
   "id": "03a4356f",
   "metadata": {},
   "source": [
    "Question 26- Write a python program using RegEx to accept string ending with alphanumeric character."
   ]
  },
  {
   "cell_type": "code",
   "execution_count": 58,
   "id": "59d15db9",
   "metadata": {},
   "outputs": [
    {
     "name": "stdout",
     "output_type": "stream",
     "text": [
      "'HelloWorld123' is valid: True\n",
      "'This is a test' is valid: True\n",
      "'12345' is valid: True\n",
      "'JustAnotherTest@' is valid: False\n",
      "'' is valid: False\n"
     ]
    }
   ],
   "source": [
    "import re\n",
    "\n",
    "def string_end(text):\n",
    "    pattern = re.compile(r'.*[A-Za-z0-9]$')\n",
    "    if pattern.match(text):\n",
    "        return True\n",
    "    else:\n",
    "        return False\n",
    "target_strings = [\n",
    "    \"HelloWorld123\",   \n",
    "    \"This is a test\",  \n",
    "    \"12345\",            \n",
    "    \"JustAnotherTest@\", \n",
    "    \"\" \n",
    "]\n",
    "for s in target_strings:\n",
    "    result = string_end(s)\n",
    "    print(f\"'{s}' is valid: {result}\")\n"
   ]
  },
  {
   "cell_type": "markdown",
   "id": "4bbbe745",
   "metadata": {},
   "source": [
    "Question 27-Write a python program using RegEx to extract the hashtags.\n",
    "Sample Text: \"\"\"RT @kapil_kausik: #Doltiwal I mean #xyzabc is \"hurt\" by #Demonetization as the same has\n",
    "rendered USELESS <ed><U+00A0><U+00BD><ed><U+00B1><U+0089> \"acquired funds\" No wo\"\"\"\n",
    "Expected Output:['#Doltiwal', '#xyzabc', '#Demonetization']"
   ]
  },
  {
   "cell_type": "code",
   "execution_count": 59,
   "id": "0de18567",
   "metadata": {},
   "outputs": [
    {
     "name": "stdout",
     "output_type": "stream",
     "text": [
      "['#Doltiwal', '#xyzabc', '#Demonetization']\n"
     ]
    }
   ],
   "source": [
    "import re\n",
    "\n",
    "def extract_hashtags(text):\n",
    "    pattern = re.compile(r'#\\w+')\n",
    "    hashtags = pattern.findall(text)    \n",
    "    return hashtags\n",
    "sample_text = \"\"\"RT @kapil_kausik: #Doltiwal I mean #xyzabc is \"hurt\" by #Demonetization as the same has\n",
    "rendered USELESS <ed><U+00A0><U+00BD><ed><U+00B1><U+0089> \"acquired funds\" No wo\"\"\"\n",
    "result = extract_hashtags(sample_text)\n",
    "print(result)\n"
   ]
  },
  {
   "cell_type": "markdown",
   "id": "5d6181c4",
   "metadata": {},
   "source": [
    "Question 28- Write a python program using RegEx to remove <U+..> like symbols\n",
    "Check the below sample text, there are strange symbols something of the sort <U+..> all over the place. You need to come up with a general Regex expression that will cover all such symbols.\n",
    "Sample Text: \"@Jags123456 Bharat band on 28??<ed><U+00A0><U+00BD><ed><U+00B8><U+0082>Those who  are protesting #demonetization  are all different party leaders\"\n",
    "Expected Output:@Jags123456 Bharat band on 28??<ed><ed>Those who  are protesting #demonetization  are all different party leaders"
   ]
  },
  {
   "cell_type": "code",
   "execution_count": 60,
   "id": "99811ea7",
   "metadata": {},
   "outputs": [
    {
     "name": "stdout",
     "output_type": "stream",
     "text": [
      "@Jags123456 Bharat band on 28??<ed><ed>Those who  are protesting #demonetization  are all different party leaders\n"
     ]
    }
   ],
   "source": [
    "import re\n",
    "\n",
    "def remove_unicode_symbols(text):\n",
    "    pattern = re.compile(r'<U\\+[A-Fa-f0-9]{4,5}>')\n",
    "    clean_text = pattern.sub('', text)\n",
    "    return clean_text\n",
    "sample_text = \"@Jags123456 Bharat band on 28??<ed><U+00A0><U+00BD><ed><U+00B8><U+0082>Those who  are protesting #demonetization  are all different party leaders\"\n",
    "result = remove_unicode_symbols(sample_text)\n",
    "print(result)\n"
   ]
  },
  {
   "cell_type": "markdown",
   "id": "59f3a99a",
   "metadata": {},
   "source": [
    "Question 29- Write a python program to extract dates from the text stored in the text file.\n",
    "Sample Text:Ron was born on 12-09-1992 and he was admitted to school 15-12-1999.\n",
    "Note- Store this sample text in the file and then extract dates."
   ]
  },
  {
   "cell_type": "code",
   "execution_count": 62,
   "id": "3a89268c",
   "metadata": {},
   "outputs": [
    {
     "name": "stdout",
     "output_type": "stream",
     "text": [
      "['12-09-1992', '15-12-1999']\n"
     ]
    }
   ],
   "source": [
    "import re\n",
    "\n",
    "def extract_dates_from_file(file_path):\n",
    "    date_pattern = re.compile(r'\\b\\d{2}-\\d{2}-\\d{4}\\b')\n",
    "    with open(file_path, 'r') as file:\n",
    "        text = file.read()\n",
    "    dates = date_pattern.findall(text)\n",
    "    return dates\n",
    "sample_text = \"Ron was born on 12-09-1992 and he was admitted to school 15-12-1999.\"\n",
    "file_path = 'sample_text.txt'\n",
    "with open(file_path, 'w') as file:\n",
    "    file.write(sample_text)\n",
    "dates = extract_dates_from_file(file_path)\n",
    "print(dates)\n"
   ]
  },
  {
   "cell_type": "markdown",
   "id": "4338eaa8",
   "metadata": {},
   "source": [
    "Question 30- Create a function in python to remove all words from a string of length between 2 and 4.\n",
    "The use of the re.compile() method is mandatory.\n",
    "Sample Text:\"The following example creates an ArrayList with a capacity of 50 elements. 4 elements are then added to the ArrayList and the ArrayList is trimmed accordingly.\"\n",
    "Expected Output:following example creates ArrayList a capacity elements. 4 elements added ArrayList ArrayList trimmed accordingly."
   ]
  },
  {
   "cell_type": "code",
   "execution_count": 64,
   "id": "5dd2d7e6",
   "metadata": {},
   "outputs": [
    {
     "name": "stdout",
     "output_type": "stream",
     "text": [
      "following example creates ArrayList a capacity elements. 4 elements added ArrayList ArrayList trimmed accordingly.\n"
     ]
    }
   ],
   "source": [
    "import re\n",
    "\n",
    "def remove_short_words(text):\n",
    "    pattern = re.compile(r'\\b\\w{2,4}\\b')\n",
    "    clean_text = pattern.sub('', text).strip()\n",
    "    clean_text = re.sub(r'\\s+', ' ', clean_text)\n",
    "    return clean_text\n",
    "sample_text = \"The following example creates an ArrayList with a capacity of 50 elements. 4 elements are then added to the ArrayList and the ArrayList is trimmed accordingly.\"\n",
    "result = remove_short_words(sample_text)\n",
    "print(result)\n"
   ]
  },
  {
   "cell_type": "code",
   "execution_count": null,
   "id": "db33d66d",
   "metadata": {},
   "outputs": [],
   "source": []
  },
  {
   "cell_type": "code",
   "execution_count": null,
   "id": "53b79924",
   "metadata": {},
   "outputs": [],
   "source": []
  }
 ],
 "metadata": {
  "kernelspec": {
   "display_name": "Python 3 (ipykernel)",
   "language": "python",
   "name": "python3"
  },
  "language_info": {
   "codemirror_mode": {
    "name": "ipython",
    "version": 3
   },
   "file_extension": ".py",
   "mimetype": "text/x-python",
   "name": "python",
   "nbconvert_exporter": "python",
   "pygments_lexer": "ipython3",
   "version": "3.11.5"
  }
 },
 "nbformat": 4,
 "nbformat_minor": 5
}
